{
  "nbformat": 4,
  "nbformat_minor": 0,
  "metadata": {
    "colab": {
      "provenance": []
    },
    "kernelspec": {
      "name": "python3",
      "display_name": "Python 3"
    },
    "language_info": {
      "name": "python"
    }
  },
  "cells": [
    {
      "cell_type": "code",
      "execution_count": null,
      "metadata": {
        "id": "fa9DqF5gL7h1"
      },
      "outputs": [],
      "source": [
        "!git clone https://github.com/PhonePe/pulse.git"
      ]
    },
    {
      "cell_type": "code",
      "source": [
        "import os\n",
        "path=\"/content/pulse/data/aggregated/transaction/country/india/state/\"\n",
        "Agg_state_list=os.listdir(path)\n",
        "Agg_state_list"
      ],
      "metadata": {
        "id": "tXyAsmmpL-iK"
      },
      "execution_count": null,
      "outputs": []
    },
    {
      "cell_type": "code",
      "source": [
        "#Once created the clone of GIT-HUB repository then,\n",
        "#Required libraries for the program\n",
        "\n",
        "import pandas as pd\n",
        "import json\n",
        "import os\n",
        "\n",
        "#This is to direct the path to get the data as states\n",
        "\n",
        "path=\"/content/pulse/data/aggregated/transaction/country/india/state/\"\n",
        "Agg_state_list=os.listdir(path)\n",
        "Agg_state_list\n",
        "#Agg_state_list--> to get the list of states in India\n",
        "\n",
        "#<------------------------------------------------------------------------------------------------------------------------------------------------------------------------------------------------------------>#\n",
        "\n",
        "#This is to extract the data's to create a dataframe\n",
        "\n",
        "clm={'State':[], 'Year':[],'Quater':[],'Transacion_type':[], 'Transacion_count':[], 'Transacion_amount':[]}\n",
        "\n",
        "for i in Agg_state_list:\n",
        "    p_i=path+i+\"/\"\n",
        "    Agg_yr=os.listdir(p_i)\n",
        "    for j in Agg_yr:\n",
        "        p_j=p_i+j+\"/\"\n",
        "        Agg_yr_list=os.listdir(p_j)\n",
        "        for k in Agg_yr_list:\n",
        "            p_k=p_j+k\n",
        "            Data=open(p_k,'r')\n",
        "            D=json.load(Data)\n",
        "            for z in D['data']['transactionData']:\n",
        "              Name=z['name']\n",
        "              count=z['paymentInstruments'][0]['count']\n",
        "              amount=z['paymentInstruments'][0]['amount']\n",
        "              clm['Transacion_type'].append(Name)\n",
        "              clm['Transacion_count'].append(count)\n",
        "              clm['Transacion_amount'].append(amount)\n",
        "              clm['State'].append(i)\n",
        "              clm['Year'].append(j)\n",
        "              clm['Quater'].append(int(k.strip('.json')))\n",
        "#Succesfully created a dataframe\n",
        "Agg_Trans=pd.DataFrame(clm)\n"
      ],
      "metadata": {
        "colab": {
          "base_uri": "https://localhost:8080/",
          "height": 211
        },
        "id": "--m0MVK-MHx1",
        "outputId": "c38f54c3-7997-45fe-bda9-3dfef3b205d6"
      },
      "execution_count": 1,
      "outputs": [
        {
          "output_type": "error",
          "ename": "FileNotFoundError",
          "evalue": "[Errno 2] No such file or directory: '/content/pulse/data/aggregated/transaction/country/india/state/'",
          "traceback": [
            "\u001b[0;31m---------------------------------------------------------------------------\u001b[0m",
            "\u001b[0;31mFileNotFoundError\u001b[0m                         Traceback (most recent call last)",
            "\u001b[0;32m<ipython-input-1-7ac70a39117b>\u001b[0m in \u001b[0;36m<cell line: 11>\u001b[0;34m()\u001b[0m\n\u001b[1;32m      9\u001b[0m \u001b[0;34m\u001b[0m\u001b[0m\n\u001b[1;32m     10\u001b[0m \u001b[0mpath\u001b[0m\u001b[0;34m=\u001b[0m\u001b[0;34m\"/content/pulse/data/aggregated/transaction/country/india/state/\"\u001b[0m\u001b[0;34m\u001b[0m\u001b[0;34m\u001b[0m\u001b[0m\n\u001b[0;32m---> 11\u001b[0;31m \u001b[0mAgg_state_list\u001b[0m\u001b[0;34m=\u001b[0m\u001b[0mos\u001b[0m\u001b[0;34m.\u001b[0m\u001b[0mlistdir\u001b[0m\u001b[0;34m(\u001b[0m\u001b[0mpath\u001b[0m\u001b[0;34m)\u001b[0m\u001b[0;34m\u001b[0m\u001b[0;34m\u001b[0m\u001b[0m\n\u001b[0m\u001b[1;32m     12\u001b[0m \u001b[0mAgg_state_list\u001b[0m\u001b[0;34m\u001b[0m\u001b[0;34m\u001b[0m\u001b[0m\n\u001b[1;32m     13\u001b[0m \u001b[0;31m#Agg_state_list--> to get the list of states in India\u001b[0m\u001b[0;34m\u001b[0m\u001b[0;34m\u001b[0m\u001b[0m\n",
            "\u001b[0;31mFileNotFoundError\u001b[0m: [Errno 2] No such file or directory: '/content/pulse/data/aggregated/transaction/country/india/state/'"
          ]
        }
      ]
    },
    {
      "cell_type": "code",
      "source": [
        "Agg_Trans"
      ],
      "metadata": {
        "id": "0ot1Rlz4MOYi"
      },
      "execution_count": null,
      "outputs": []
    },
    {
      "cell_type": "code",
      "source": [
        "Agg_Trans['State'].unique()"
      ],
      "metadata": {
        "id": "SDDTqk3qMVtb"
      },
      "execution_count": null,
      "outputs": []
    },
    {
      "cell_type": "code",
      "source": [
        "import pandas as pd\n",
        "import plotly.express as px\n",
        "\n",
        "df = pd.read_csv(\"https://gist.githubusercontent.com/jbrobst/56c13bbbf9d97d187fea01ca62ea5112/raw/e388c4cae20aa53cb5090210a42ebb9b765c0a36/active_cases_2020-07-17_0800.csv\")\n",
        "\n",
        "fig = px.choropleth(\n",
        "    df,\n",
        "    geojson=\"https://gist.githubusercontent.com/jbrobst/56c13bbbf9d97d187fea01ca62ea5112/raw/e388c4cae20aa53cb5090210a42ebb9b765c0a36/india_states.geojson\",\n",
        "    featureidkey='properties.ST_NM',\n",
        "    locations='State',\n",
        "    color='District',\n",
        "    color_continuous_scale='Reds'\n",
        ")\n",
        "\n",
        "fig.update_geos(fitbounds=\"locations\", visible=False)\n",
        "\n",
        "fig.show()"
      ],
      "metadata": {
        "id": "ZBcrxHWWMalZ"
      },
      "execution_count": null,
      "outputs": []
    },
    {
      "cell_type": "code",
      "source": [
        "df"
      ],
      "metadata": {
        "id": "-inKqFPbMg5a"
      },
      "execution_count": null,
      "outputs": []
    },
    {
      "cell_type": "code",
      "source": [
        "20 point\n",
        "10 state os.WIFSIGNALED\n",
        "10"
      ],
      "metadata": {
        "id": "np_qrxvTMmYH"
      },
      "execution_count": null,
      "outputs": []
    }
  ]
}